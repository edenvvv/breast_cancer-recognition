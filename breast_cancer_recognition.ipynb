{
  "nbformat": 4,
  "nbformat_minor": 0,
  "metadata": {
    "colab": {
      "name": "breast-cancer-recognition.ipynb",
      "provenance": [],
      "collapsed_sections": []
    },
    "kernelspec": {
      "name": "python3",
      "display_name": "Python 3"
    }
  },
  "cells": [
    {
      "cell_type": "markdown",
      "metadata": {
        "id": "iPHtstM_fnkC"
      },
      "source": [
        "the CSV files that contain the pre-sorted and pre-normalized data."
      ]
    },
    {
      "cell_type": "code",
      "metadata": {
        "id": "iaRkmstyWGKo",
        "outputId": "e56be602-9b71-4e5c-96f5-78f4369617d8",
        "colab": {
          "base_uri": "https://localhost:8080/",
          "height": 34
        }
      },
      "source": [
        "import pandas as pd\n",
        "\n",
        "X_train = pd.read_csv(\"xtrain.csv\", header=None)\n",
        "Y_train = pd.read_csv(\"ytrain.csv\", header=None)\n",
        "X_test = pd.read_csv(\"xtest.csv\", header=None)\n",
        "Y_test = pd.read_csv(\"ytest.csv\", header=None)\n",
        "print(\"successfully readed\")"
      ],
      "execution_count": 14,
      "outputs": [
        {
          "output_type": "stream",
          "text": [
            "successfully readed\n"
          ],
          "name": "stdout"
        }
      ]
    },
    {
      "cell_type": "markdown",
      "metadata": {
        "id": "4q9-FG_EgECO"
      },
      "source": [
        "useing Keras to define a Neural network"
      ]
    },
    {
      "cell_type": "code",
      "metadata": {
        "id": "1NYJWf1BWGx2",
        "outputId": "5e58ec9e-a8cb-4aa3-ce56-25fea9df5daf",
        "colab": {
          "base_uri": "https://localhost:8080/",
          "height": 34
        }
      },
      "source": [
        "from keras.models import Sequential\n",
        "from keras.layers import Dense\n",
        "\n",
        "classifier = Sequential() # Initialising the ANN\n",
        "\n",
        "classifier.add(Dense(units = 16, activation = 'relu', input_dim = 30))\n",
        "classifier.add(Dense(units = 8, activation = 'relu'))\n",
        "classifier.add(Dense(units = 6, activation = 'relu'))\n",
        "classifier.add(Dense(units = 1, activation = 'sigmoid'))\n",
        "print(\"Initialising the ANN successfully\")"
      ],
      "execution_count": 16,
      "outputs": [
        {
          "output_type": "stream",
          "text": [
            "Initialising the ANN successfully\n"
          ],
          "name": "stdout"
        }
      ]
    },
    {
      "cell_type": "markdown",
      "metadata": {
        "id": "RPkzrSt_gT6o"
      },
      "source": [
        "useing optimizer and loss function"
      ]
    },
    {
      "cell_type": "code",
      "metadata": {
        "id": "b8uMgYQqWG2O"
      },
      "source": [
        "classifier.compile(optimizer = 'rmsprop', loss = 'binary_crossentropy')"
      ],
      "execution_count": 17,
      "outputs": []
    },
    {
      "cell_type": "markdown",
      "metadata": {
        "id": "SP5ck36sgatU"
      },
      "source": [
        "train the neural network"
      ]
    },
    {
      "cell_type": "code",
      "metadata": {
        "id": "T3p2RDGxWHiW",
        "outputId": "ddb55ff8-4029-45bf-a5eb-597e969c043f",
        "colab": {
          "base_uri": "https://localhost:8080/",
          "height": 1000
        }
      },
      "source": [
        "classifier.fit(X_train, Y_train, batch_size = 1, epochs = 65)"
      ],
      "execution_count": 30,
      "outputs": [
        {
          "output_type": "stream",
          "text": [
            "Epoch 1/65\n",
            "455/455 [==============================] - 0s 900us/step - loss: 0.0103\n",
            "Epoch 2/65\n",
            "455/455 [==============================] - 0s 900us/step - loss: 0.0053\n",
            "Epoch 3/65\n",
            "455/455 [==============================] - 0s 948us/step - loss: 0.0115\n",
            "Epoch 4/65\n",
            "455/455 [==============================] - 0s 886us/step - loss: 0.0136\n",
            "Epoch 5/65\n",
            "455/455 [==============================] - 0s 955us/step - loss: 0.0137\n",
            "Epoch 6/65\n",
            "455/455 [==============================] - 0s 901us/step - loss: 0.0319\n",
            "Epoch 7/65\n",
            "455/455 [==============================] - 0s 942us/step - loss: 0.0060\n",
            "Epoch 8/65\n",
            "455/455 [==============================] - 0s 899us/step - loss: 0.0313\n",
            "Epoch 9/65\n",
            "455/455 [==============================] - 0s 868us/step - loss: 0.0157\n",
            "Epoch 10/65\n",
            "455/455 [==============================] - 0s 913us/step - loss: 0.0032\n",
            "Epoch 11/65\n",
            "455/455 [==============================] - 0s 914us/step - loss: 0.0127\n",
            "Epoch 12/65\n",
            "455/455 [==============================] - 0s 932us/step - loss: 0.0108\n",
            "Epoch 13/65\n",
            "455/455 [==============================] - 0s 890us/step - loss: 0.0049\n",
            "Epoch 14/65\n",
            "455/455 [==============================] - 0s 902us/step - loss: 0.0241\n",
            "Epoch 15/65\n",
            "455/455 [==============================] - 0s 913us/step - loss: 0.0095\n",
            "Epoch 16/65\n",
            "455/455 [==============================] - 0s 937us/step - loss: 0.0200\n",
            "Epoch 17/65\n",
            "455/455 [==============================] - 0s 926us/step - loss: 0.0026\n",
            "Epoch 18/65\n",
            "455/455 [==============================] - 0s 882us/step - loss: 0.0115\n",
            "Epoch 19/65\n",
            "455/455 [==============================] - 0s 874us/step - loss: 0.0268\n",
            "Epoch 20/65\n",
            "455/455 [==============================] - 0s 899us/step - loss: 0.0067\n",
            "Epoch 21/65\n",
            "455/455 [==============================] - 0s 898us/step - loss: 0.0104\n",
            "Epoch 22/65\n",
            "455/455 [==============================] - 0s 951us/step - loss: 0.0104\n",
            "Epoch 23/65\n",
            "455/455 [==============================] - 0s 889us/step - loss: 0.0127\n",
            "Epoch 24/65\n",
            "455/455 [==============================] - 0s 922us/step - loss: 0.0099\n",
            "Epoch 25/65\n",
            "455/455 [==============================] - 0s 889us/step - loss: 0.0132\n",
            "Epoch 26/65\n",
            "455/455 [==============================] - 0s 918us/step - loss: 0.0015\n",
            "Epoch 27/65\n",
            "455/455 [==============================] - 0s 912us/step - loss: 0.0082\n",
            "Epoch 28/65\n",
            "455/455 [==============================] - 0s 930us/step - loss: 0.0049\n",
            "Epoch 29/65\n",
            "455/455 [==============================] - 0s 905us/step - loss: 0.0080\n",
            "Epoch 30/65\n",
            "455/455 [==============================] - 0s 903us/step - loss: 0.0196\n",
            "Epoch 31/65\n",
            "455/455 [==============================] - 0s 908us/step - loss: 0.0130\n",
            "Epoch 32/65\n",
            "455/455 [==============================] - 0s 976us/step - loss: 0.0017\n",
            "Epoch 33/65\n",
            "455/455 [==============================] - 0s 868us/step - loss: 0.0240\n",
            "Epoch 34/65\n",
            "455/455 [==============================] - 0s 897us/step - loss: 0.0016\n",
            "Epoch 35/65\n",
            "455/455 [==============================] - 0s 889us/step - loss: 0.0302\n",
            "Epoch 36/65\n",
            "455/455 [==============================] - 0s 937us/step - loss: 0.0037\n",
            "Epoch 37/65\n",
            "455/455 [==============================] - 0s 913us/step - loss: 0.0139\n",
            "Epoch 38/65\n",
            "455/455 [==============================] - 0s 939us/step - loss: 0.0108\n",
            "Epoch 39/65\n",
            "455/455 [==============================] - 0s 946us/step - loss: 0.0039\n",
            "Epoch 40/65\n",
            "455/455 [==============================] - 0s 923us/step - loss: 0.0156\n",
            "Epoch 41/65\n",
            "455/455 [==============================] - 0s 949us/step - loss: 0.0051\n",
            "Epoch 42/65\n",
            "455/455 [==============================] - 0s 898us/step - loss: 0.0047\n",
            "Epoch 43/65\n",
            "455/455 [==============================] - 0s 948us/step - loss: 0.0235\n",
            "Epoch 44/65\n",
            "455/455 [==============================] - 0s 909us/step - loss: 0.0121\n",
            "Epoch 45/65\n",
            "455/455 [==============================] - 0s 934us/step - loss: 7.3351e-04\n",
            "Epoch 46/65\n",
            "455/455 [==============================] - 0s 945us/step - loss: 0.0348\n",
            "Epoch 47/65\n",
            "455/455 [==============================] - 0s 966us/step - loss: 0.0126\n",
            "Epoch 48/65\n",
            "455/455 [==============================] - 0s 968us/step - loss: 0.0029\n",
            "Epoch 49/65\n",
            "455/455 [==============================] - 0s 939us/step - loss: 0.0041\n",
            "Epoch 50/65\n",
            "455/455 [==============================] - 0s 997us/step - loss: 0.0044\n",
            "Epoch 51/65\n",
            "455/455 [==============================] - 0s 984us/step - loss: 0.0019\n",
            "Epoch 52/65\n",
            "455/455 [==============================] - 0s 967us/step - loss: 0.0291\n",
            "Epoch 53/65\n",
            "455/455 [==============================] - 0s 893us/step - loss: 0.0099\n",
            "Epoch 54/65\n",
            "455/455 [==============================] - 0s 931us/step - loss: 0.0118\n",
            "Epoch 55/65\n",
            "455/455 [==============================] - 0s 913us/step - loss: 0.0029\n",
            "Epoch 56/65\n",
            "455/455 [==============================] - 0s 948us/step - loss: 0.0083\n",
            "Epoch 57/65\n",
            "455/455 [==============================] - 0s 974us/step - loss: 0.0283\n",
            "Epoch 58/65\n",
            "455/455 [==============================] - 0s 920us/step - loss: 0.0025\n",
            "Epoch 59/65\n",
            "455/455 [==============================] - 0s 932us/step - loss: 0.0048\n",
            "Epoch 60/65\n",
            "455/455 [==============================] - 0s 932us/step - loss: 0.0084\n",
            "Epoch 61/65\n",
            "455/455 [==============================] - 0s 908us/step - loss: 0.0070\n",
            "Epoch 62/65\n",
            "455/455 [==============================] - 0s 881us/step - loss: 2.2418e-04\n",
            "Epoch 63/65\n",
            "455/455 [==============================] - 0s 872us/step - loss: 0.0121\n",
            "Epoch 64/65\n",
            "455/455 [==============================] - 0s 908us/step - loss: 0.0031\n",
            "Epoch 65/65\n",
            "455/455 [==============================] - 0s 903us/step - loss: 0.0031\n"
          ],
          "name": "stdout"
        },
        {
          "output_type": "execute_result",
          "data": {
            "text/plain": [
              "<tensorflow.python.keras.callbacks.History at 0x7fe724d1bef0>"
            ]
          },
          "metadata": {
            "tags": []
          },
          "execution_count": 30
        }
      ]
    },
    {
      "cell_type": "markdown",
      "metadata": {
        "id": "Vk1TIJ8zg9S8"
      },
      "source": [
        "clean up the data\n",
        "If they are greater than 0.5, we will make them 1, otherwise we will make them 0."
      ]
    },
    {
      "cell_type": "code",
      "metadata": {
        "id": "ZiG9-K4cWHDa"
      },
      "source": [
        "Y_pred = classifier.predict(X_test)\n",
        "Y_pred = [ 1 if y>=0.5 else 0 for y in Y_pred ]"
      ],
      "execution_count": 19,
      "outputs": []
    },
    {
      "cell_type": "markdown",
      "metadata": {
        "id": "StGWUKoshzX4"
      },
      "source": [
        "Testing the prediction"
      ]
    },
    {
      "cell_type": "code",
      "metadata": {
        "id": "6ODjbGhmWHGI",
        "outputId": "4bc8bb2a-60e7-4ea5-8256-0ae6eb3f4715",
        "colab": {
          "base_uri": "https://localhost:8080/",
          "height": 85
        }
      },
      "source": [
        "total, correct, wrong = 0, 0, 0\n",
        "for i in Y_pred:\n",
        "  total=total+1\n",
        "  if(Y_test.at[i,0] == Y_pred[i]):\n",
        "    correct=correct+1\n",
        "  else:\n",
        "    wrong=wrong+1\n",
        "\n",
        "print(\"Total of \" + str(total))\n",
        "print(\"and the prediction is:\")\n",
        "print(\"Correct \" + str(correct))\n",
        "print(\"Wrong \" + str(wrong))"
      ],
      "execution_count": 29,
      "outputs": [
        {
          "output_type": "stream",
          "text": [
            "Total of 114\n",
            "and the prediction is:\n",
            "Correct 114\n",
            "Wrong 0\n"
          ],
          "name": "stdout"
        }
      ]
    }
  ]
}